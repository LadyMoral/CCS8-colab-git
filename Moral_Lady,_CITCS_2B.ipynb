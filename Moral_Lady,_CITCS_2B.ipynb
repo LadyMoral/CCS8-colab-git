{
  "nbformat": 4,
  "nbformat_minor": 0,
  "metadata": {
    "colab": {
      "provenance": [],
      "authorship_tag": "ABX9TyN3lMPPGsVyuqQE4/11Nb28",
      "include_colab_link": true
    },
    "kernelspec": {
      "name": "python3",
      "display_name": "Python 3"
    },
    "language_info": {
      "name": "python"
    }
  },
  "cells": [
    {
      "cell_type": "markdown",
      "metadata": {
        "id": "view-in-github",
        "colab_type": "text"
      },
      "source": [
        "<a href=\"https://colab.research.google.com/github/LadyMoral/CCS8-colab-git/blob/main/Moral_Lady%2C_CITCS_2B.ipynb\" target=\"_parent\"><img src=\"https://colab.research.google.com/assets/colab-badge.svg\" alt=\"Open In Colab\"/></a>"
      ]
    },
    {
      "cell_type": "code",
      "execution_count": null,
      "metadata": {
        "id": "oIRKe4ogAHJ5"
      },
      "outputs": [],
      "source": [
        "!pip install pandas openpyxl --quiet"
      ]
    },
    {
      "cell_type": "code",
      "source": [
        "import pandas as pd\n",
        "from google.colab import files"
      ],
      "metadata": {
        "id": "nb8rXGajA4_Q"
      },
      "execution_count": null,
      "outputs": []
    },
    {
      "cell_type": "code",
      "source": [
        "uploaded = files.upload()\n",
        "file_name = list(uploaded.keys())[0]"
      ],
      "metadata": {
        "colab": {
          "base_uri": "https://localhost:8080/",
          "height": 73
        },
        "id": "kFmdJ8soBBk5",
        "outputId": "b42739c6-0bf8-4d83-b53b-8b9c95264cbe"
      },
      "execution_count": null,
      "outputs": [
        {
          "output_type": "display_data",
          "data": {
            "text/plain": [
              "<IPython.core.display.HTML object>"
            ],
            "text/html": [
              "\n",
              "     <input type=\"file\" id=\"files-ae026cbe-8669-4e82-af1c-5c9f94552e7a\" name=\"files[]\" multiple disabled\n",
              "        style=\"border:none\" />\n",
              "     <output id=\"result-ae026cbe-8669-4e82-af1c-5c9f94552e7a\">\n",
              "      Upload widget is only available when the cell has been executed in the\n",
              "      current browser session. Please rerun this cell to enable.\n",
              "      </output>\n",
              "      <script>// Copyright 2017 Google LLC\n",
              "//\n",
              "// Licensed under the Apache License, Version 2.0 (the \"License\");\n",
              "// you may not use this file except in compliance with the License.\n",
              "// You may obtain a copy of the License at\n",
              "//\n",
              "//      http://www.apache.org/licenses/LICENSE-2.0\n",
              "//\n",
              "// Unless required by applicable law or agreed to in writing, software\n",
              "// distributed under the License is distributed on an \"AS IS\" BASIS,\n",
              "// WITHOUT WARRANTIES OR CONDITIONS OF ANY KIND, either express or implied.\n",
              "// See the License for the specific language governing permissions and\n",
              "// limitations under the License.\n",
              "\n",
              "/**\n",
              " * @fileoverview Helpers for google.colab Python module.\n",
              " */\n",
              "(function(scope) {\n",
              "function span(text, styleAttributes = {}) {\n",
              "  const element = document.createElement('span');\n",
              "  element.textContent = text;\n",
              "  for (const key of Object.keys(styleAttributes)) {\n",
              "    element.style[key] = styleAttributes[key];\n",
              "  }\n",
              "  return element;\n",
              "}\n",
              "\n",
              "// Max number of bytes which will be uploaded at a time.\n",
              "const MAX_PAYLOAD_SIZE = 100 * 1024;\n",
              "\n",
              "function _uploadFiles(inputId, outputId) {\n",
              "  const steps = uploadFilesStep(inputId, outputId);\n",
              "  const outputElement = document.getElementById(outputId);\n",
              "  // Cache steps on the outputElement to make it available for the next call\n",
              "  // to uploadFilesContinue from Python.\n",
              "  outputElement.steps = steps;\n",
              "\n",
              "  return _uploadFilesContinue(outputId);\n",
              "}\n",
              "\n",
              "// This is roughly an async generator (not supported in the browser yet),\n",
              "// where there are multiple asynchronous steps and the Python side is going\n",
              "// to poll for completion of each step.\n",
              "// This uses a Promise to block the python side on completion of each step,\n",
              "// then passes the result of the previous step as the input to the next step.\n",
              "function _uploadFilesContinue(outputId) {\n",
              "  const outputElement = document.getElementById(outputId);\n",
              "  const steps = outputElement.steps;\n",
              "\n",
              "  const next = steps.next(outputElement.lastPromiseValue);\n",
              "  return Promise.resolve(next.value.promise).then((value) => {\n",
              "    // Cache the last promise value to make it available to the next\n",
              "    // step of the generator.\n",
              "    outputElement.lastPromiseValue = value;\n",
              "    return next.value.response;\n",
              "  });\n",
              "}\n",
              "\n",
              "/**\n",
              " * Generator function which is called between each async step of the upload\n",
              " * process.\n",
              " * @param {string} inputId Element ID of the input file picker element.\n",
              " * @param {string} outputId Element ID of the output display.\n",
              " * @return {!Iterable<!Object>} Iterable of next steps.\n",
              " */\n",
              "function* uploadFilesStep(inputId, outputId) {\n",
              "  const inputElement = document.getElementById(inputId);\n",
              "  inputElement.disabled = false;\n",
              "\n",
              "  const outputElement = document.getElementById(outputId);\n",
              "  outputElement.innerHTML = '';\n",
              "\n",
              "  const pickedPromise = new Promise((resolve) => {\n",
              "    inputElement.addEventListener('change', (e) => {\n",
              "      resolve(e.target.files);\n",
              "    });\n",
              "  });\n",
              "\n",
              "  const cancel = document.createElement('button');\n",
              "  inputElement.parentElement.appendChild(cancel);\n",
              "  cancel.textContent = 'Cancel upload';\n",
              "  const cancelPromise = new Promise((resolve) => {\n",
              "    cancel.onclick = () => {\n",
              "      resolve(null);\n",
              "    };\n",
              "  });\n",
              "\n",
              "  // Wait for the user to pick the files.\n",
              "  const files = yield {\n",
              "    promise: Promise.race([pickedPromise, cancelPromise]),\n",
              "    response: {\n",
              "      action: 'starting',\n",
              "    }\n",
              "  };\n",
              "\n",
              "  cancel.remove();\n",
              "\n",
              "  // Disable the input element since further picks are not allowed.\n",
              "  inputElement.disabled = true;\n",
              "\n",
              "  if (!files) {\n",
              "    return {\n",
              "      response: {\n",
              "        action: 'complete',\n",
              "      }\n",
              "    };\n",
              "  }\n",
              "\n",
              "  for (const file of files) {\n",
              "    const li = document.createElement('li');\n",
              "    li.append(span(file.name, {fontWeight: 'bold'}));\n",
              "    li.append(span(\n",
              "        `(${file.type || 'n/a'}) - ${file.size} bytes, ` +\n",
              "        `last modified: ${\n",
              "            file.lastModifiedDate ? file.lastModifiedDate.toLocaleDateString() :\n",
              "                                    'n/a'} - `));\n",
              "    const percent = span('0% done');\n",
              "    li.appendChild(percent);\n",
              "\n",
              "    outputElement.appendChild(li);\n",
              "\n",
              "    const fileDataPromise = new Promise((resolve) => {\n",
              "      const reader = new FileReader();\n",
              "      reader.onload = (e) => {\n",
              "        resolve(e.target.result);\n",
              "      };\n",
              "      reader.readAsArrayBuffer(file);\n",
              "    });\n",
              "    // Wait for the data to be ready.\n",
              "    let fileData = yield {\n",
              "      promise: fileDataPromise,\n",
              "      response: {\n",
              "        action: 'continue',\n",
              "      }\n",
              "    };\n",
              "\n",
              "    // Use a chunked sending to avoid message size limits. See b/62115660.\n",
              "    let position = 0;\n",
              "    do {\n",
              "      const length = Math.min(fileData.byteLength - position, MAX_PAYLOAD_SIZE);\n",
              "      const chunk = new Uint8Array(fileData, position, length);\n",
              "      position += length;\n",
              "\n",
              "      const base64 = btoa(String.fromCharCode.apply(null, chunk));\n",
              "      yield {\n",
              "        response: {\n",
              "          action: 'append',\n",
              "          file: file.name,\n",
              "          data: base64,\n",
              "        },\n",
              "      };\n",
              "\n",
              "      let percentDone = fileData.byteLength === 0 ?\n",
              "          100 :\n",
              "          Math.round((position / fileData.byteLength) * 100);\n",
              "      percent.textContent = `${percentDone}% done`;\n",
              "\n",
              "    } while (position < fileData.byteLength);\n",
              "  }\n",
              "\n",
              "  // All done.\n",
              "  yield {\n",
              "    response: {\n",
              "      action: 'complete',\n",
              "    }\n",
              "  };\n",
              "}\n",
              "\n",
              "scope.google = scope.google || {};\n",
              "scope.google.colab = scope.google.colab || {};\n",
              "scope.google.colab._files = {\n",
              "  _uploadFiles,\n",
              "  _uploadFilesContinue,\n",
              "};\n",
              "})(self);\n",
              "</script> "
            ]
          },
          "metadata": {}
        },
        {
          "output_type": "stream",
          "name": "stdout",
          "text": [
            "Saving Gallery (2).xlsx to Gallery (2).xlsx\n"
          ]
        }
      ]
    },
    {
      "cell_type": "code",
      "source": [
        "df = pd.read_excel(file_name)"
      ],
      "metadata": {
        "id": "0MAsMHRbBitB"
      },
      "execution_count": null,
      "outputs": []
    },
    {
      "cell_type": "code",
      "source": [
        "print(\"Raw Data:\")\n",
        "print(df.head())"
      ],
      "metadata": {
        "colab": {
          "base_uri": "https://localhost:8080/"
        },
        "id": "0hoLmn6TBwyU",
        "outputId": "3920d489-1155-4d7b-d649-b563902b79ff"
      },
      "execution_count": null,
      "outputs": [
        {
          "output_type": "stream",
          "name": "stdout",
          "text": [
            "Raw Data:\n",
            "  Visitor ID        Name Entry Time Exit Time Location Visited Items Carried  \\\n",
            "0       V020  Visitor_20   10:24 am  10:56 AM        Gallery B           NaN   \n",
            "1       V042  Visitor_42   10:05 am  12:20 AM        Gallery B           NaN   \n",
            "2       V048  Visitor_48   11:37 am  10:15 AM        Gallery A           Bag   \n",
            "3       V013  Visitor_13    9:38 am  10:34 AM     Gallery B, C      Backpack   \n",
            "4       V044  Visitor_44   11:52 am  11:10 AM        Gallery C           Bag   \n",
            "\n",
            "  Relation to Staff Suspicious Behavior  Time Near Painting (min)  \\\n",
            "0            Friend                 Yes                       4.0   \n",
            "1            Friend                 Yes                       NaN   \n",
            "2    Staff Relative                  No                      20.0   \n",
            "3    Staff Relative                  No                       7.0   \n",
            "4               NaN                 Yes                       2.0   \n",
            "\n",
            "  Irrelevant Column  \n",
            "0            Extra1  \n",
            "1            Extra1  \n",
            "2            Extra2  \n",
            "3            Extra3  \n",
            "4            Extra3  \n"
          ]
        }
      ]
    },
    {
      "cell_type": "code",
      "source": [
        "# Remove duplicate rows\n",
        "df = df.drop_duplicates()\n",
        "\n",
        "# Drop irrelevant columns\n",
        "df = df.drop(columns=[\"Irrelevant Column\", \"Extra1\", \"Extra2\", \"Extra3\"], errors=\"ignore\")\n",
        "\n",
        "# Standardize time formatting\n",
        "df[\"Entry Time\"] = df[\"Entry Time\"].str.upper()\n",
        "df[\"Exit Time\"] = df[\"Exit Time\"].str.upper()\n",
        "\n",
        "# Fill missing values\n",
        "df[\"Time Near Painting (min)\"] = df[\"Time Near Painting (min)\"].fillna(0)\n",
        "df[\"Items Carried\"] = df[\"Items Carried\"].fillna(\"Unknown\")\n",
        "df[\"Relation to Staff\"] = df[\"Relation to Staff\"].fillna(\"None\")"
      ],
      "metadata": {
        "id": "Za95-cs4Dkrj"
      },
      "execution_count": null,
      "outputs": []
    },
    {
      "cell_type": "code",
      "source": [
        "# Filter suspects in Gallery B during theft time\n",
        "suspect_data = df[\n",
        "    (df[\"Location Visited\"].str.contains(\"Gallery B\")) &\n",
        "    (df[\"Time Near Painting (min)\"] > 0)\n",
        "]\n",
        "\n",
        "# Sort by time near painting\n",
        "suspect_data = suspect_data.sort_values(by=\"Time Near Painting (min)\", ascending=False)"
      ],
      "metadata": {
        "id": "vKlVHvTnDl1t"
      },
      "execution_count": null,
      "outputs": []
    },
    {
      "cell_type": "code",
      "source": [
        "print(\"\\nCleaned Dataset:\")\n",
        "print(df.head())\n",
        "\n",
        "print(\"\\nPotential Suspects:\")\n",
        "print(suspect_data)"
      ],
      "metadata": {
        "colab": {
          "base_uri": "https://localhost:8080/"
        },
        "id": "GElRelFCDnpu",
        "outputId": "cc50e2cf-0295-4a7c-da21-747701b067f7"
      },
      "execution_count": null,
      "outputs": [
        {
          "output_type": "stream",
          "name": "stdout",
          "text": [
            "\n",
            "Cleaned Dataset:\n",
            "  Visitor ID        Name Entry Time Exit Time Location Visited Items Carried  \\\n",
            "0       V020  Visitor_20   10:24 AM  10:56 AM        Gallery B       Unknown   \n",
            "1       V042  Visitor_42   10:05 AM  12:20 AM        Gallery B       Unknown   \n",
            "2       V048  Visitor_48   11:37 AM  10:15 AM        Gallery A           Bag   \n",
            "3       V013  Visitor_13    9:38 AM  10:34 AM     Gallery B, C      Backpack   \n",
            "4       V044  Visitor_44   11:52 AM  11:10 AM        Gallery C           Bag   \n",
            "\n",
            "  Relation to Staff Suspicious Behavior  Time Near Painting (min)  \n",
            "0            Friend                 Yes                       4.0  \n",
            "1            Friend                 Yes                       0.0  \n",
            "2    Staff Relative                  No                      20.0  \n",
            "3    Staff Relative                  No                       7.0  \n",
            "4              None                 Yes                       2.0  \n",
            "\n",
            "Potential Suspects:\n",
            "   Visitor ID        Name Entry Time Exit Time Location Visited Items Carried  \\\n",
            "32       V040  Visitor_40   10:18 AM  11:05 AM        Gallery B      Backpack   \n",
            "37       V003   Visitor_3   10:09 AM  10:52 AM        Gallery B       Unknown   \n",
            "12       V027  Visitor_27    9:27 AM  10:34 AM        Gallery B         Purse   \n",
            "31       V032  Visitor_32    9:54 AM  10:15 AM     Gallery B, C       Unknown   \n",
            "39       V036  Visitor_36   11:46 AM  12:37 AM        Gallery B         Purse   \n",
            "22       V010  Visitor_10   11:15 AM  10:59 AM     Gallery B, C      Backpack   \n",
            "49       V015  Visitor_15   10:52 AM  11:45 AM     Gallery B, C           Bag   \n",
            "16       V038  Visitor_38   10:29 AM  12:26 AM     Gallery B, C         Purse   \n",
            "3        V013  Visitor_13    9:38 AM  10:34 AM     Gallery B, C      Backpack   \n",
            "52       V039  Visitor_39   11:06 AM  11:16 AM     Gallery B, C         Purse   \n",
            "18       V045  Visitor_45    9:16 AM  10:45 AM        Gallery B      Backpack   \n",
            "0        V020  Visitor_20   10:24 AM  10:56 AM        Gallery B       Unknown   \n",
            "40       V024  Visitor_24   10:10 AM  12:10 AM     Gallery B, C       Unknown   \n",
            "\n",
            "   Relation to Staff Suspicious Behavior  Time Near Painting (min)  \n",
            "32              None                  No                      24.0  \n",
            "37              None                 Yes                      20.0  \n",
            "12    Staff Relative                 Yes                      16.0  \n",
            "31    Staff Relative                 Yes                      16.0  \n",
            "39    Staff Relative                 Yes                      15.0  \n",
            "22            Friend                  No                      13.0  \n",
            "49              None                 Yes                      12.0  \n",
            "16            Friend                  No                      10.0  \n",
            "3     Staff Relative                  No                       7.0  \n",
            "52    Staff Relative                  No                       7.0  \n",
            "18              None                  No                       5.0  \n",
            "0             Friend                 Yes                       4.0  \n",
            "40            Friend                 Yes                       2.0  \n"
          ]
        }
      ]
    },
    {
      "cell_type": "code",
      "source": [
        "# The suspect is VOO3, because he was there in the time of the theft, he spent 20min near the painting, and he is marked suspicious."
      ],
      "metadata": {
        "id": "8EICfmTVDqHE"
      },
      "execution_count": null,
      "outputs": []
    }
  ]
}