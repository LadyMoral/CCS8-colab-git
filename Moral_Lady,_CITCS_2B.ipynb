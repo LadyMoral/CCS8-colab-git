{
  "nbformat": 4,
  "nbformat_minor": 0,
  "metadata": {
    "colab": {
      "provenance": [],
      "authorship_tag": "ABX9TyMEQa1zBV833t3/jegrilqT",
      "include_colab_link": true
    },
    "kernelspec": {
      "name": "python3",
      "display_name": "Python 3"
    },
    "language_info": {
      "name": "python"
    }
  },
  "cells": [
    {
      "cell_type": "markdown",
      "metadata": {
        "id": "view-in-github",
        "colab_type": "text"
      },
      "source": [
        "<a href=\"https://colab.research.google.com/github/LadyMoral/CCS8-colab-git/blob/main/Moral_Lady%2C_CITCS_2B.ipynb\" target=\"_parent\"><img src=\"https://colab.research.google.com/assets/colab-badge.svg\" alt=\"Open In Colab\"/></a>"
      ]
    },
    {
      "cell_type": "code",
      "execution_count": 14,
      "metadata": {
        "id": "oIRKe4ogAHJ5"
      },
      "outputs": [],
      "source": [
        "!pip install pandas openpyxl --quiet"
      ]
    },
    {
      "cell_type": "code",
      "source": [
        "import pandas as pd\n",
        "from google.colab import files"
      ],
      "metadata": {
        "id": "nb8rXGajA4_Q"
      },
      "execution_count": null,
      "outputs": []
    },
    {
      "cell_type": "code",
      "source": [
        "uploaded = files.upload()\n",
        "file_name = list(uploaded.keys())[0]"
      ],
      "metadata": {
        "colab": {
          "base_uri": "https://localhost:8080/",
          "height": 73
        },
        "id": "kFmdJ8soBBk5",
        "outputId": "3663409e-cbfc-45d8-ad6b-2daba310c480"
      },
      "execution_count": 15,
      "outputs": [
        {
          "output_type": "display_data",
          "data": {
            "text/plain": [
              "<IPython.core.display.HTML object>"
            ],
            "text/html": [
              "\n",
              "     <input type=\"file\" id=\"files-e179b216-a37b-4a46-a0a3-9560f454b92f\" name=\"files[]\" multiple disabled\n",
              "        style=\"border:none\" />\n",
              "     <output id=\"result-e179b216-a37b-4a46-a0a3-9560f454b92f\">\n",
              "      Upload widget is only available when the cell has been executed in the\n",
              "      current browser session. Please rerun this cell to enable.\n",
              "      </output>\n",
              "      <script>// Copyright 2017 Google LLC\n",
              "//\n",
              "// Licensed under the Apache License, Version 2.0 (the \"License\");\n",
              "// you may not use this file except in compliance with the License.\n",
              "// You may obtain a copy of the License at\n",
              "//\n",
              "//      http://www.apache.org/licenses/LICENSE-2.0\n",
              "//\n",
              "// Unless required by applicable law or agreed to in writing, software\n",
              "// distributed under the License is distributed on an \"AS IS\" BASIS,\n",
              "// WITHOUT WARRANTIES OR CONDITIONS OF ANY KIND, either express or implied.\n",
              "// See the License for the specific language governing permissions and\n",
              "// limitations under the License.\n",
              "\n",
              "/**\n",
              " * @fileoverview Helpers for google.colab Python module.\n",
              " */\n",
              "(function(scope) {\n",
              "function span(text, styleAttributes = {}) {\n",
              "  const element = document.createElement('span');\n",
              "  element.textContent = text;\n",
              "  for (const key of Object.keys(styleAttributes)) {\n",
              "    element.style[key] = styleAttributes[key];\n",
              "  }\n",
              "  return element;\n",
              "}\n",
              "\n",
              "// Max number of bytes which will be uploaded at a time.\n",
              "const MAX_PAYLOAD_SIZE = 100 * 1024;\n",
              "\n",
              "function _uploadFiles(inputId, outputId) {\n",
              "  const steps = uploadFilesStep(inputId, outputId);\n",
              "  const outputElement = document.getElementById(outputId);\n",
              "  // Cache steps on the outputElement to make it available for the next call\n",
              "  // to uploadFilesContinue from Python.\n",
              "  outputElement.steps = steps;\n",
              "\n",
              "  return _uploadFilesContinue(outputId);\n",
              "}\n",
              "\n",
              "// This is roughly an async generator (not supported in the browser yet),\n",
              "// where there are multiple asynchronous steps and the Python side is going\n",
              "// to poll for completion of each step.\n",
              "// This uses a Promise to block the python side on completion of each step,\n",
              "// then passes the result of the previous step as the input to the next step.\n",
              "function _uploadFilesContinue(outputId) {\n",
              "  const outputElement = document.getElementById(outputId);\n",
              "  const steps = outputElement.steps;\n",
              "\n",
              "  const next = steps.next(outputElement.lastPromiseValue);\n",
              "  return Promise.resolve(next.value.promise).then((value) => {\n",
              "    // Cache the last promise value to make it available to the next\n",
              "    // step of the generator.\n",
              "    outputElement.lastPromiseValue = value;\n",
              "    return next.value.response;\n",
              "  });\n",
              "}\n",
              "\n",
              "/**\n",
              " * Generator function which is called between each async step of the upload\n",
              " * process.\n",
              " * @param {string} inputId Element ID of the input file picker element.\n",
              " * @param {string} outputId Element ID of the output display.\n",
              " * @return {!Iterable<!Object>} Iterable of next steps.\n",
              " */\n",
              "function* uploadFilesStep(inputId, outputId) {\n",
              "  const inputElement = document.getElementById(inputId);\n",
              "  inputElement.disabled = false;\n",
              "\n",
              "  const outputElement = document.getElementById(outputId);\n",
              "  outputElement.innerHTML = '';\n",
              "\n",
              "  const pickedPromise = new Promise((resolve) => {\n",
              "    inputElement.addEventListener('change', (e) => {\n",
              "      resolve(e.target.files);\n",
              "    });\n",
              "  });\n",
              "\n",
              "  const cancel = document.createElement('button');\n",
              "  inputElement.parentElement.appendChild(cancel);\n",
              "  cancel.textContent = 'Cancel upload';\n",
              "  const cancelPromise = new Promise((resolve) => {\n",
              "    cancel.onclick = () => {\n",
              "      resolve(null);\n",
              "    };\n",
              "  });\n",
              "\n",
              "  // Wait for the user to pick the files.\n",
              "  const files = yield {\n",
              "    promise: Promise.race([pickedPromise, cancelPromise]),\n",
              "    response: {\n",
              "      action: 'starting',\n",
              "    }\n",
              "  };\n",
              "\n",
              "  cancel.remove();\n",
              "\n",
              "  // Disable the input element since further picks are not allowed.\n",
              "  inputElement.disabled = true;\n",
              "\n",
              "  if (!files) {\n",
              "    return {\n",
              "      response: {\n",
              "        action: 'complete',\n",
              "      }\n",
              "    };\n",
              "  }\n",
              "\n",
              "  for (const file of files) {\n",
              "    const li = document.createElement('li');\n",
              "    li.append(span(file.name, {fontWeight: 'bold'}));\n",
              "    li.append(span(\n",
              "        `(${file.type || 'n/a'}) - ${file.size} bytes, ` +\n",
              "        `last modified: ${\n",
              "            file.lastModifiedDate ? file.lastModifiedDate.toLocaleDateString() :\n",
              "                                    'n/a'} - `));\n",
              "    const percent = span('0% done');\n",
              "    li.appendChild(percent);\n",
              "\n",
              "    outputElement.appendChild(li);\n",
              "\n",
              "    const fileDataPromise = new Promise((resolve) => {\n",
              "      const reader = new FileReader();\n",
              "      reader.onload = (e) => {\n",
              "        resolve(e.target.result);\n",
              "      };\n",
              "      reader.readAsArrayBuffer(file);\n",
              "    });\n",
              "    // Wait for the data to be ready.\n",
              "    let fileData = yield {\n",
              "      promise: fileDataPromise,\n",
              "      response: {\n",
              "        action: 'continue',\n",
              "      }\n",
              "    };\n",
              "\n",
              "    // Use a chunked sending to avoid message size limits. See b/62115660.\n",
              "    let position = 0;\n",
              "    do {\n",
              "      const length = Math.min(fileData.byteLength - position, MAX_PAYLOAD_SIZE);\n",
              "      const chunk = new Uint8Array(fileData, position, length);\n",
              "      position += length;\n",
              "\n",
              "      const base64 = btoa(String.fromCharCode.apply(null, chunk));\n",
              "      yield {\n",
              "        response: {\n",
              "          action: 'append',\n",
              "          file: file.name,\n",
              "          data: base64,\n",
              "        },\n",
              "      };\n",
              "\n",
              "      let percentDone = fileData.byteLength === 0 ?\n",
              "          100 :\n",
              "          Math.round((position / fileData.byteLength) * 100);\n",
              "      percent.textContent = `${percentDone}% done`;\n",
              "\n",
              "    } while (position < fileData.byteLength);\n",
              "  }\n",
              "\n",
              "  // All done.\n",
              "  yield {\n",
              "    response: {\n",
              "      action: 'complete',\n",
              "    }\n",
              "  };\n",
              "}\n",
              "\n",
              "scope.google = scope.google || {};\n",
              "scope.google.colab = scope.google.colab || {};\n",
              "scope.google.colab._files = {\n",
              "  _uploadFiles,\n",
              "  _uploadFilesContinue,\n",
              "};\n",
              "})(self);\n",
              "</script> "
            ]
          },
          "metadata": {}
        },
        {
          "output_type": "stream",
          "name": "stdout",
          "text": [
            "Saving Moral_Gallery (1).xlsx to Moral_Gallery (1) (1).xlsx\n"
          ]
        }
      ]
    },
    {
      "cell_type": "code",
      "source": [
        "df = pd.read_excel(file_name)"
      ],
      "metadata": {
        "id": "0MAsMHRbBitB"
      },
      "execution_count": null,
      "outputs": []
    },
    {
      "cell_type": "code",
      "source": [
        "print(\"Raw Data:\")\n",
        "print(df.head())"
      ],
      "metadata": {
        "colab": {
          "base_uri": "https://localhost:8080/"
        },
        "id": "0hoLmn6TBwyU",
        "outputId": "05d0156c-b1ad-4841-b662-65e422457226"
      },
      "execution_count": null,
      "outputs": [
        {
          "output_type": "stream",
          "name": "stdout",
          "text": [
            "Raw Data:\n",
            "  Visitor ID       Name Entry Time (AM) Exit Time (AM) Location Visited  \\\n",
            "0       V001  Visitor_1        09:32:00       10:35:00     Gallery A, B   \n",
            "1       V002  Visitor_2        10:07:00       12:58:00        Gallery C   \n",
            "2       V003  Visitor_3        10:09:00       10:52:00        Gallery B   \n",
            "3       V004  Visitor_4        10:06:00       12:28:00     Gallery A, B   \n",
            "4       V005  Visitor_5        09:06:00       10:08:00        Gallery A   \n",
            "\n",
            "  Items Carried Relation to Staff Suspicious Behavior  \\\n",
            "0           Bag            Friend                 Yes   \n",
            "1           NaN               NaN                 Yes   \n",
            "2           NaN               NaN                 Yes   \n",
            "3      Backpack    Staff Relative                 Yes   \n",
            "4         Purse    Staff Relative                  No   \n",
            "\n",
            "   Time Near Painting (min) Entry < 10:45am Exit > 10:44am  \n",
            "0                      24.0             Yes             No  \n",
            "1                      13.0             Yes            Yes  \n",
            "2                      20.0             Yes            Yes  \n",
            "3                      21.0             Yes            Yes  \n",
            "4                      10.0             Yes             No  \n"
          ]
        }
      ]
    },
    {
      "cell_type": "code",
      "source": [
        "# First, check the actual column names in your DataFrame\n",
        "print(df.columns.tolist())\n",
        "\n",
        "# Remove duplicate rows\n",
        "df = df.drop_duplicates()\n",
        "\n",
        "# Drop irrelevant columns\n",
        "df = df.drop(columns=[\"Irrelevant Column\", \"Extra1\", \"Extra2\", \"Extra3\"], errors=\"ignore\")\n",
        "\n",
        "# Standardize time formatting - using try/except to handle potential column name issues\n",
        "try:\n",
        "    # Try the original column names\n",
        "    df[\"Entry Time\"] = df[\"Entry Time\"].str.upper()\n",
        "    df[\"Exit Time\"] = df[\"Exit Time\"].str.upper()\n",
        "except KeyError:\n",
        "    # The columns might be named differently - perhaps \"entry_time\" and \"exit_time\"\n",
        "    # You'll need to identify the actual column names from the print output above\n",
        "    # and replace these with the correct names\n",
        "    possible_entry_names = [col for col in df.columns if 'entry' in col.lower() or 'time' in col.lower()]\n",
        "    possible_exit_names = [col for col in df.columns if 'exit' in col.lower() or 'time' in col.lower()]\n",
        "\n",
        "    print(\"Possible entry time columns:\", possible_entry_names)\n",
        "    print(\"Possible exit time columns:\", possible_exit_names)\n",
        "\n",
        "    # Uncomment and edit the lines below once you know the correct column names\n",
        "    # df[\"actual_entry_column_name\"] = df[\"actual_entry_column_name\"].str.upper()\n",
        "    # df[\"actual_exit_column_name\"] = df[\"actual_exit_column_name\"].str.upper()\n",
        "\n",
        "# Fill missing values - adjust column names if needed\n",
        "try:\n",
        "    df[\"Time Near Painting (min)\"] = df[\"Time Near Painting (min)\"].fillna(0)\n",
        "    df[\"Items Carried\"] = df[\"Items Carried\"].fillna(\"Unknown\")\n",
        "    df[\"Relation to Staff\"] = df[\"Relation to Staff\"].fillna(\"None\")\n",
        "except KeyError as e:\n",
        "    print(f\"Column not found: {e}\")\n",
        "    # You may need to adjust these column names too"
      ],
      "metadata": {
        "id": "Za95-cs4Dkrj",
        "outputId": "1da35123-f685-4d7c-bb27-fba8b320d8f3",
        "colab": {
          "base_uri": "https://localhost:8080/"
        }
      },
      "execution_count": null,
      "outputs": [
        {
          "output_type": "stream",
          "name": "stdout",
          "text": [
            "['Visitor ID', 'Name', 'Entry Time (AM)', 'Exit Time (AM)', 'Location Visited', 'Items Carried', 'Relation to Staff', 'Suspicious Behavior', 'Time Near Painting (min)', 'Entry < 10:45am', 'Exit > 10:44am']\n",
            "Possible entry time columns: ['Entry Time (AM)', 'Exit Time (AM)', 'Time Near Painting (min)', 'Entry < 10:45am']\n",
            "Possible exit time columns: ['Entry Time (AM)', 'Exit Time (AM)', 'Time Near Painting (min)', 'Exit > 10:44am']\n"
          ]
        }
      ]
    },
    {
      "cell_type": "code",
      "source": [
        "# Filter suspects in Gallery B during theft time\n",
        "suspect_data = df[\n",
        "    (df[\"Location Visited\"].str.contains(\"Gallery B\")) &\n",
        "    (df[\"Time Near Painting (min)\"] > 0)\n",
        "]\n",
        "\n",
        "# Sort by time near painting\n",
        "suspect_data = suspect_data.sort_values(by=\"Time Near Painting (min)\", ascending=False)"
      ],
      "metadata": {
        "id": "vKlVHvTnDl1t"
      },
      "execution_count": null,
      "outputs": []
    },
    {
      "cell_type": "code",
      "source": [
        "print(\"\\nCleaned Dataset:\")\n",
        "print(df.head())\n",
        "\n",
        "print(\"\\nPotential Suspects:\")\n",
        "print(suspect_data)"
      ],
      "metadata": {
        "colab": {
          "base_uri": "https://localhost:8080/"
        },
        "id": "GElRelFCDnpu",
        "outputId": "004e371a-abc8-4a0f-e090-6569127c9bce"
      },
      "execution_count": null,
      "outputs": [
        {
          "output_type": "stream",
          "name": "stdout",
          "text": [
            "\n",
            "Cleaned Dataset:\n",
            "  Visitor ID       Name Entry Time (AM) Exit Time (AM) Location Visited  \\\n",
            "0       V001  Visitor_1        09:32:00       10:35:00     Gallery A, B   \n",
            "1       V002  Visitor_2        10:07:00       12:58:00        Gallery C   \n",
            "2       V003  Visitor_3        10:09:00       10:52:00        Gallery B   \n",
            "3       V004  Visitor_4        10:06:00       12:28:00     Gallery A, B   \n",
            "4       V005  Visitor_5        09:06:00       10:08:00        Gallery A   \n",
            "\n",
            "  Items Carried Relation to Staff Suspicious Behavior  \\\n",
            "0           Bag            Friend                 Yes   \n",
            "1       Unknown              None                 Yes   \n",
            "2       Unknown              None                 Yes   \n",
            "3      Backpack    Staff Relative                 Yes   \n",
            "4         Purse    Staff Relative                  No   \n",
            "\n",
            "   Time Near Painting (min) Entry < 10:45am Exit > 10:44am  \n",
            "0                      24.0             Yes             No  \n",
            "1                      13.0             Yes            Yes  \n",
            "2                      20.0             Yes            Yes  \n",
            "3                      21.0             Yes            Yes  \n",
            "4                      10.0             Yes             No  \n",
            "\n",
            "Potential Suspects:\n",
            "   Visitor ID        Name Entry Time (AM) Exit Time (AM) Location Visited  \\\n",
            "39       V040  Visitor_40        10:18:00       11:05:00        Gallery B   \n",
            "2        V003   Visitor_3        10:09:00       10:52:00        Gallery B   \n",
            "26       V027  Visitor_27        09:27:00       10:34:00        Gallery B   \n",
            "31       V032  Visitor_32        09:54:00       10:15:00     Gallery B, C   \n",
            "35       V036  Visitor_36        11:46:00       12:37:00        Gallery B   \n",
            "9        V010  Visitor_10        11:15:00       10:59:00     Gallery B, C   \n",
            "14       V015  Visitor_15        10:52:00       11:45:00     Gallery B, C   \n",
            "37       V038  Visitor_38        10:29:00       12:26:00     Gallery B, C   \n",
            "12       V013  Visitor_13        09:38:00       10:34:00     Gallery B, C   \n",
            "38       V039  Visitor_39        11:06:00       11:16:00     Gallery B, C   \n",
            "44       V045  Visitor_45        09:16:00       10:45:00        Gallery B   \n",
            "19       V020  Visitor_20        10:24:00       10:56:00        Gallery B   \n",
            "23       V024  Visitor_24        10:10:00       12:10:00     Gallery B, C   \n",
            "\n",
            "   Items Carried Relation to Staff Suspicious Behavior  \\\n",
            "39      Backpack              None                  No   \n",
            "2        Unknown              None                 Yes   \n",
            "26         Purse    Staff Relative                 Yes   \n",
            "31       Unknown    Staff Relative                 Yes   \n",
            "35         Purse    Staff Relative                 Yes   \n",
            "9       Backpack            Friend                  No   \n",
            "14           Bag              None                 Yes   \n",
            "37         Purse            Friend                  No   \n",
            "12      Backpack    Staff Relative                  No   \n",
            "38         Purse    Staff Relative                  No   \n",
            "44      Backpack              None                  No   \n",
            "19       Unknown            Friend                 Yes   \n",
            "23       Unknown            Friend                 Yes   \n",
            "\n",
            "    Time Near Painting (min) Entry < 10:45am Exit > 10:44am  \n",
            "39                      24.0             Yes            Yes  \n",
            "2                       20.0             Yes            Yes  \n",
            "26                      16.0             Yes             No  \n",
            "31                      16.0             Yes             No  \n",
            "35                      15.0              No            Yes  \n",
            "9                       13.0              No            Yes  \n",
            "14                      12.0              No            Yes  \n",
            "37                      10.0             Yes            Yes  \n",
            "12                       7.0             Yes             No  \n",
            "38                       7.0              No            Yes  \n",
            "44                       5.0             Yes            Yes  \n",
            "19                       4.0             Yes            Yes  \n",
            "23                       2.0             Yes            Yes  \n"
          ]
        }
      ]
    },
    {
      "cell_type": "code",
      "source": [
        "# The suspect is VOO3, because he was there in the time of the theft, he spent 20min near the painting, and he is marked suspicious."
      ],
      "metadata": {
        "id": "8EICfmTVDqHE"
      },
      "execution_count": null,
      "outputs": []
    }
  ]
}